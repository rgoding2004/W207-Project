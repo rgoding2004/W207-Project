{
 "cells": [
  {
   "cell_type": "code",
   "execution_count": 232,
   "id": "3502b22a",
   "metadata": {},
   "outputs": [],
   "source": [
    "import pandas as pd\n",
    "import matplotlib.pyplot as plt\n",
    "import numpy as np\n",
    "import seaborn as sns\n",
    "%matplotlib inline"
   ]
  },
  {
   "cell_type": "markdown",
   "id": "d39b9ed6",
   "metadata": {},
   "source": [
    "## Data Loading and Cleaning"
   ]
  },
  {
   "cell_type": "markdown",
   "id": "9cd548d0",
   "metadata": {},
   "source": [
    "The dataset contains three subsets. As a first step, we load all datasets and create one pandas dataframe to include all the useful features and information for our project. Given our goal is to forecast "
   ]
  },
  {
   "cell_type": "code",
   "execution_count": 133,
   "id": "2239510f",
   "metadata": {},
   "outputs": [
    {
     "name": "stderr",
     "output_type": "stream",
     "text": [
      "E:\\ProgramData\\Anaconda3\\lib\\site-packages\\IPython\\core\\interactiveshell.py:3166: DtypeWarning: Columns (0,8) have mixed types.Specify dtype option on import or set low_memory=False.\n",
      "  interactivity=interactivity, compiler=compiler, result=result)\n"
     ]
    }
   ],
   "source": [
    "asset_df = pd.read_csv('assets.txt', sep=\",\")\n",
    "events_df = pd.read_csv('events.txt', sep=\",\")\n",
    "sale_events_df = pd.read_csv('sale_events.txt', sep=\",\")\n",
    "\n",
    "# Change the price formation of total_price to remove redundant 0's for each price\n",
    "adj_price = []\n",
    "for i in range(len(sale_events_df)):\n",
    "    adj_price.append(float(sale_events_df.loc[i]['total_price']) / 10e+18)\n",
    "\n",
    "sale_events_df.total_price = adj_price"
   ]
  },
  {
   "cell_type": "markdown",
   "id": "38887a72",
   "metadata": {},
   "source": [
    "For asset_df, we drop all the rows that are not an token entry. Since we will just use token_id to join different dataframes, we will drop the \"id\" column. Additionally, we will drop the \"image_url\", \"permalink\" and \"collection\" columns since they do not add information for our model. "
   ]
  },
  {
   "cell_type": "code",
   "execution_count": 134,
   "id": "8e295d11",
   "metadata": {},
   "outputs": [],
   "source": [
    "asset_df_clean = asset_df.drop(asset_df[asset_df.token_id == 'token_id'].index, axis=0)\n",
    "asset_df_clean = asset_df_clean.drop(labels=['id', 'image_url', 'permalink', 'collection'], axis=1)"
   ]
  },
  {
   "cell_type": "markdown",
   "id": "55b7e9e8",
   "metadata": {},
   "source": [
    "For sale_events_df, we will create the average sales price for each token_id and use the price as the target to train the model. Since other informations (except created_date) all have the same value, they do not provide additional information for our forecast and thus are dropped. "
   ]
  },
  {
   "cell_type": "code",
   "execution_count": 140,
   "id": "0484aa6c",
   "metadata": {},
   "outputs": [],
   "source": [
    "token_id = sale_events_df.token_id.unique()\n",
    "price_df = pd.DataFrame(columns=['token_id', 'ave_price'])\n",
    "\n",
    "for i in range(len(token_id)):\n",
    "    current_token = token_id[i]\n",
    "    current_price = sale_events_df[sale_events_df.token_id == current_token].total_price.mean()\n",
    "    price_df.loc[i] = [str(current_token), current_price]"
   ]
  },
  {
   "cell_type": "markdown",
   "id": "37dd27e7",
   "metadata": {},
   "source": [
    "Notice that only a subset of all the items have a transaction price. We merge the price dataframe together with the feature dataframe, keeping only those items with prices. "
   ]
  },
  {
   "cell_type": "code",
   "execution_count": 221,
   "id": "ca8df976",
   "metadata": {},
   "outputs": [
    {
     "data": {
      "text/html": [
       "<div>\n",
       "<style scoped>\n",
       "    .dataframe tbody tr th:only-of-type {\n",
       "        vertical-align: middle;\n",
       "    }\n",
       "\n",
       "    .dataframe tbody tr th {\n",
       "        vertical-align: top;\n",
       "    }\n",
       "\n",
       "    .dataframe thead th {\n",
       "        text-align: right;\n",
       "    }\n",
       "</style>\n",
       "<table border=\"1\" class=\"dataframe\">\n",
       "  <thead>\n",
       "    <tr style=\"text-align: right;\">\n",
       "      <th></th>\n",
       "      <th>token_id</th>\n",
       "      <th>ave_price</th>\n",
       "      <th>face_value</th>\n",
       "      <th>face_count</th>\n",
       "      <th>body_value</th>\n",
       "      <th>body_count</th>\n",
       "      <th>shirt_value</th>\n",
       "      <th>shirt_count</th>\n",
       "      <th>tier_value</th>\n",
       "      <th>tier_count</th>\n",
       "      <th>hats_value</th>\n",
       "      <th>hats_count</th>\n",
       "    </tr>\n",
       "  </thead>\n",
       "  <tbody>\n",
       "    <tr>\n",
       "      <th>0</th>\n",
       "      <td>9932</td>\n",
       "      <td>0.707250</td>\n",
       "      <td>mononoke</td>\n",
       "      <td>237</td>\n",
       "      <td>blue cat skin</td>\n",
       "      <td>9933</td>\n",
       "      <td>buttondown green</td>\n",
       "      <td>220</td>\n",
       "      <td>cool_2</td>\n",
       "      <td>2584</td>\n",
       "      <td>mohawk purple</td>\n",
       "      <td>221</td>\n",
       "    </tr>\n",
       "    <tr>\n",
       "      <th>1</th>\n",
       "      <td>9925</td>\n",
       "      <td>0.144000</td>\n",
       "      <td>stunned</td>\n",
       "      <td>247</td>\n",
       "      <td>blue cat skin</td>\n",
       "      <td>9933</td>\n",
       "      <td>hoodie purple</td>\n",
       "      <td>193</td>\n",
       "      <td>cool_1</td>\n",
       "      <td>1979</td>\n",
       "      <td>mohawk purple</td>\n",
       "      <td>221</td>\n",
       "    </tr>\n",
       "    <tr>\n",
       "      <th>2</th>\n",
       "      <td>9924</td>\n",
       "      <td>0.174000</td>\n",
       "      <td>sunglasses cool</td>\n",
       "      <td>209</td>\n",
       "      <td>blue cat skin</td>\n",
       "      <td>9933</td>\n",
       "      <td>tshirt pink</td>\n",
       "      <td>203</td>\n",
       "      <td>wild_1</td>\n",
       "      <td>1743</td>\n",
       "      <td>bow</td>\n",
       "      <td>84</td>\n",
       "    </tr>\n",
       "    <tr>\n",
       "      <th>3</th>\n",
       "      <td>9923</td>\n",
       "      <td>0.069000</td>\n",
       "      <td>glossy</td>\n",
       "      <td>211</td>\n",
       "      <td>blue cat skin</td>\n",
       "      <td>9933</td>\n",
       "      <td>bandana red</td>\n",
       "      <td>218</td>\n",
       "      <td>cool_1</td>\n",
       "      <td>1979</td>\n",
       "      <td>mohawk purple</td>\n",
       "      <td>221</td>\n",
       "    </tr>\n",
       "    <tr>\n",
       "      <th>4</th>\n",
       "      <td>9921</td>\n",
       "      <td>0.131475</td>\n",
       "      <td>angry scar</td>\n",
       "      <td>227</td>\n",
       "      <td>blue cat skin</td>\n",
       "      <td>9933</td>\n",
       "      <td>work blue</td>\n",
       "      <td>198</td>\n",
       "      <td>cool_2</td>\n",
       "      <td>2584</td>\n",
       "      <td>bucket hat green</td>\n",
       "      <td>235</td>\n",
       "    </tr>\n",
       "    <tr>\n",
       "      <th>...</th>\n",
       "      <td>...</td>\n",
       "      <td>...</td>\n",
       "      <td>...</td>\n",
       "      <td>...</td>\n",
       "      <td>...</td>\n",
       "      <td>...</td>\n",
       "      <td>...</td>\n",
       "      <td>...</td>\n",
       "      <td>...</td>\n",
       "      <td>...</td>\n",
       "      <td>...</td>\n",
       "      <td>...</td>\n",
       "    </tr>\n",
       "    <tr>\n",
       "      <th>844</th>\n",
       "      <td>8951</td>\n",
       "      <td>0.077000</td>\n",
       "      <td>angry cute</td>\n",
       "      <td>250</td>\n",
       "      <td>blue cat skin</td>\n",
       "      <td>9933</td>\n",
       "      <td>astro orange</td>\n",
       "      <td>60</td>\n",
       "      <td>classy_2</td>\n",
       "      <td>747</td>\n",
       "      <td>nurse</td>\n",
       "      <td>81</td>\n",
       "    </tr>\n",
       "    <tr>\n",
       "      <th>845</th>\n",
       "      <td>8934</td>\n",
       "      <td>0.266200</td>\n",
       "      <td>sunglasses cool</td>\n",
       "      <td>209</td>\n",
       "      <td>blue cat skin</td>\n",
       "      <td>9933</td>\n",
       "      <td>nurse</td>\n",
       "      <td>60</td>\n",
       "      <td>wild_1</td>\n",
       "      <td>1743</td>\n",
       "      <td>piercings</td>\n",
       "      <td>209</td>\n",
       "    </tr>\n",
       "    <tr>\n",
       "      <th>846</th>\n",
       "      <td>8944</td>\n",
       "      <td>0.007000</td>\n",
       "      <td>angry</td>\n",
       "      <td>243</td>\n",
       "      <td>blue cat skin</td>\n",
       "      <td>9933</td>\n",
       "      <td>punk</td>\n",
       "      <td>63</td>\n",
       "      <td>wild_2</td>\n",
       "      <td>1241</td>\n",
       "      <td>sunhat black</td>\n",
       "      <td>105</td>\n",
       "    </tr>\n",
       "    <tr>\n",
       "      <th>847</th>\n",
       "      <td>8914</td>\n",
       "      <td>0.203429</td>\n",
       "      <td>ninja black</td>\n",
       "      <td>221</td>\n",
       "      <td>blue cat skin</td>\n",
       "      <td>9933</td>\n",
       "      <td>tanktop white</td>\n",
       "      <td>203</td>\n",
       "      <td>wild_1</td>\n",
       "      <td>1743</td>\n",
       "      <td>helm bronze</td>\n",
       "      <td>66</td>\n",
       "    </tr>\n",
       "    <tr>\n",
       "      <th>848</th>\n",
       "      <td>8967</td>\n",
       "      <td>0.413143</td>\n",
       "      <td>rich</td>\n",
       "      <td>242</td>\n",
       "      <td>blue cat skin</td>\n",
       "      <td>9933</td>\n",
       "      <td>astro orange</td>\n",
       "      <td>60</td>\n",
       "      <td>classy_2</td>\n",
       "      <td>747</td>\n",
       "      <td>sunhat white</td>\n",
       "      <td>103</td>\n",
       "    </tr>\n",
       "  </tbody>\n",
       "</table>\n",
       "<p>849 rows × 12 columns</p>\n",
       "</div>"
      ],
      "text/plain": [
       "    token_id  ave_price       face_value face_count     body_value body_count  \\\n",
       "0       9932   0.707250         mononoke        237  blue cat skin       9933   \n",
       "1       9925   0.144000          stunned        247  blue cat skin       9933   \n",
       "2       9924   0.174000  sunglasses cool        209  blue cat skin       9933   \n",
       "3       9923   0.069000           glossy        211  blue cat skin       9933   \n",
       "4       9921   0.131475       angry scar        227  blue cat skin       9933   \n",
       "..       ...        ...              ...        ...            ...        ...   \n",
       "844     8951   0.077000       angry cute        250  blue cat skin       9933   \n",
       "845     8934   0.266200  sunglasses cool        209  blue cat skin       9933   \n",
       "846     8944   0.007000            angry        243  blue cat skin       9933   \n",
       "847     8914   0.203429      ninja black        221  blue cat skin       9933   \n",
       "848     8967   0.413143             rich        242  blue cat skin       9933   \n",
       "\n",
       "          shirt_value shirt_count tier_value tier_count        hats_value  \\\n",
       "0    buttondown green         220     cool_2       2584     mohawk purple   \n",
       "1       hoodie purple         193     cool_1       1979     mohawk purple   \n",
       "2         tshirt pink         203     wild_1       1743               bow   \n",
       "3         bandana red         218     cool_1       1979     mohawk purple   \n",
       "4           work blue         198     cool_2       2584  bucket hat green   \n",
       "..                ...         ...        ...        ...               ...   \n",
       "844      astro orange          60   classy_2        747             nurse   \n",
       "845             nurse          60     wild_1       1743         piercings   \n",
       "846              punk          63     wild_2       1241      sunhat black   \n",
       "847     tanktop white         203     wild_1       1743       helm bronze   \n",
       "848      astro orange          60   classy_2        747      sunhat white   \n",
       "\n",
       "    hats_count  \n",
       "0          221  \n",
       "1          221  \n",
       "2           84  \n",
       "3          221  \n",
       "4          235  \n",
       "..         ...  \n",
       "844         81  \n",
       "845        209  \n",
       "846        105  \n",
       "847         66  \n",
       "848        103  \n",
       "\n",
       "[849 rows x 12 columns]"
      ]
     },
     "execution_count": 221,
     "metadata": {},
     "output_type": "execute_result"
    }
   ],
   "source": [
    "price_df['token_id'] = price_df['token_id'].astype(str)\n",
    "asset_df_clean['token_id'] = asset_df_clean['token_id'].astype(str)\n",
    "df = price_df.merge(asset_df_clean, on='token_id')\n",
    "df"
   ]
  },
  {
   "cell_type": "markdown",
   "id": "71b418a6",
   "metadata": {},
   "source": [
    "## Exploratory Data Analysis (EDA)"
   ]
  },
  {
   "cell_type": "markdown",
   "id": "52a0de60",
   "metadata": {},
   "source": [
    "### Average Price"
   ]
  },
  {
   "cell_type": "markdown",
   "id": "3fef8ad4",
   "metadata": {},
   "source": [
    "First, we take a look at the distribution of average transaction price, defined as the average of all the transaction prices during the underlying period. As stated earlier, prices were normalized by dividing by 1e+18 to remove redundant errors at the end. Hereafter, price refers to the normalized price. "
   ]
  },
  {
   "cell_type": "code",
   "execution_count": 167,
   "id": "11777f47",
   "metadata": {},
   "outputs": [
    {
     "data": {
      "text/plain": [
       "count    849.000000\n",
       "mean       0.258887\n",
       "std        1.845453\n",
       "min        0.001000\n",
       "25%        0.028633\n",
       "50%        0.090000\n",
       "75%        0.276000\n",
       "max       53.406667\n",
       "Name: ave_price, dtype: float64"
      ]
     },
     "execution_count": 167,
     "metadata": {},
     "output_type": "execute_result"
    }
   ],
   "source": [
    "df.ave_price.describe()"
   ]
  },
  {
   "cell_type": "markdown",
   "id": "13e83efe",
   "metadata": {},
   "source": [
    "We can see that most of the prices are less than 1, but there are a few outliers (such as 53.4). The histogram below shows the distribution of prices (ignoring outliers greater than 1). "
   ]
  },
  {
   "cell_type": "code",
   "execution_count": 170,
   "id": "b00e6b28",
   "metadata": {},
   "outputs": [
    {
     "data": {
      "image/png": "[encoded data removed]",
      "text/plain": [
       "<Figure size 432x288 with 1 Axes>"
      ]
     },
     "metadata": {
      "needs_background": "light"
     },
     "output_type": "display_data"
    }
   ],
   "source": [
    "plt.hist(df.ave_price, bins=30, range=(0, 1))\n",
    "plt.title('Distribution of prices')\n",
    "plt.xlabel('Prices')\n",
    "plt.ylabel('Frequency')\n",
    "plt.show()"
   ]
  },
  {
   "cell_type": "markdown",
   "id": "2a2e034a",
   "metadata": {},
   "source": [
    "### Features"
   ]
  },
  {
   "cell_type": "markdown",
   "id": "a647af4b",
   "metadata": {},
   "source": [
    "There are in total five different features: face_value, body_value, shirt_value, tier_value and hat_value, and they are all categorical variables. Since most of the features have many unique values (above 50), showing their relationship with price in a plot is difficult. We will use summary tables to show the average transaction price for each category. For the feature \"tier_value\", we will show the distribution of price for each category in a box plot. Lastly, since all the samples have \"blue cat skin\" as their body_value, we ignore the feature body_value in our EDA. "
   ]
  },
  {
   "cell_type": "markdown",
   "id": "947d1a65",
   "metadata": {},
   "source": [
    "First, for the feature \"face_value\", we can see the average transaction prices ranges from 0.08 (for \"sunglass cowboy\" category) to 0.93 (for \"tvface 404\" category). The average price for \"tired\" category is 2.5, which is likely caused by an outlier. "
   ]
  },
  {
   "cell_type": "code",
   "execution_count": 234,
   "id": "e52b60ec",
   "metadata": {},
   "outputs": [
    {
     "data": {
      "text/html": [
       "<div>\n",
       "<style scoped>\n",
       "    .dataframe tbody tr th:only-of-type {\n",
       "        vertical-align: middle;\n",
       "    }\n",
       "\n",
       "    .dataframe tbody tr th {\n",
       "        vertical-align: top;\n",
       "    }\n",
       "\n",
       "    .dataframe thead th {\n",
       "        text-align: right;\n",
       "    }\n",
       "</style>\n",
       "<table border=\"1\" class=\"dataframe\">\n",
       "  <thead>\n",
       "    <tr style=\"text-align: right;\">\n",
       "      <th></th>\n",
       "      <th>ave_price</th>\n",
       "    </tr>\n",
       "    <tr>\n",
       "      <th>face_value</th>\n",
       "      <th></th>\n",
       "    </tr>\n",
       "  </thead>\n",
       "  <tbody>\n",
       "    <tr>\n",
       "      <th>sunglasses cowboy</th>\n",
       "      <td>0.082845</td>\n",
       "    </tr>\n",
       "    <tr>\n",
       "      <th>tvface xp</th>\n",
       "      <td>0.085000</td>\n",
       "    </tr>\n",
       "    <tr>\n",
       "      <th>tvface bobross</th>\n",
       "      <td>0.094375</td>\n",
       "    </tr>\n",
       "    <tr>\n",
       "      <th>owo</th>\n",
       "      <td>0.101692</td>\n",
       "    </tr>\n",
       "    <tr>\n",
       "      <th>sunglasses heart</th>\n",
       "      <td>0.125325</td>\n",
       "    </tr>\n",
       "    <tr>\n",
       "      <th>glasses funny</th>\n",
       "      <td>0.137678</td>\n",
       "    </tr>\n",
       "    <tr>\n",
       "      <th>uwu</th>\n",
       "      <td>0.145815</td>\n",
       "    </tr>\n",
       "    <tr>\n",
       "      <th>sunglasses yellow</th>\n",
       "      <td>0.149023</td>\n",
       "    </tr>\n",
       "    <tr>\n",
       "      <th>double face</th>\n",
       "      <td>0.151860</td>\n",
       "    </tr>\n",
       "    <tr>\n",
       "      <th>glossy</th>\n",
       "      <td>0.152032</td>\n",
       "    </tr>\n",
       "    <tr>\n",
       "      <th>three eyes</th>\n",
       "      <td>0.152794</td>\n",
       "    </tr>\n",
       "    <tr>\n",
       "      <th>dizzy</th>\n",
       "      <td>0.154450</td>\n",
       "    </tr>\n",
       "    <tr>\n",
       "      <th>glasses</th>\n",
       "      <td>0.155931</td>\n",
       "    </tr>\n",
       "    <tr>\n",
       "      <th>happy</th>\n",
       "      <td>0.156133</td>\n",
       "    </tr>\n",
       "    <tr>\n",
       "      <th>happy cute</th>\n",
       "      <td>0.157230</td>\n",
       "    </tr>\n",
       "    <tr>\n",
       "      <th>face face</th>\n",
       "      <td>0.157818</td>\n",
       "    </tr>\n",
       "    <tr>\n",
       "      <th>rich</th>\n",
       "      <td>0.161785</td>\n",
       "    </tr>\n",
       "    <tr>\n",
       "      <th>unamused</th>\n",
       "      <td>0.164014</td>\n",
       "    </tr>\n",
       "    <tr>\n",
       "      <th>sunglasses blue</th>\n",
       "      <td>0.164081</td>\n",
       "    </tr>\n",
       "    <tr>\n",
       "      <th>ninja black</th>\n",
       "      <td>0.168438</td>\n",
       "    </tr>\n",
       "    <tr>\n",
       "      <th>ditto</th>\n",
       "      <td>0.172969</td>\n",
       "    </tr>\n",
       "    <tr>\n",
       "      <th>ninja blue</th>\n",
       "      <td>0.177196</td>\n",
       "    </tr>\n",
       "    <tr>\n",
       "      <th>beard pirate</th>\n",
       "      <td>0.180010</td>\n",
       "    </tr>\n",
       "    <tr>\n",
       "      <th>stunned</th>\n",
       "      <td>0.183855</td>\n",
       "    </tr>\n",
       "    <tr>\n",
       "      <th>sunglasses cool</th>\n",
       "      <td>0.186434</td>\n",
       "    </tr>\n",
       "    <tr>\n",
       "      <th>angry</th>\n",
       "      <td>0.187255</td>\n",
       "    </tr>\n",
       "    <tr>\n",
       "      <th>grin</th>\n",
       "      <td>0.187260</td>\n",
       "    </tr>\n",
       "    <tr>\n",
       "      <th>angry cute</th>\n",
       "      <td>0.188306</td>\n",
       "    </tr>\n",
       "    <tr>\n",
       "      <th>zombie</th>\n",
       "      <td>0.188763</td>\n",
       "    </tr>\n",
       "    <tr>\n",
       "      <th>wink</th>\n",
       "      <td>0.200100</td>\n",
       "    </tr>\n",
       "    <tr>\n",
       "      <th>sunglasses pixel</th>\n",
       "      <td>0.215639</td>\n",
       "    </tr>\n",
       "    <tr>\n",
       "      <th>beard brown</th>\n",
       "      <td>0.216657</td>\n",
       "    </tr>\n",
       "    <tr>\n",
       "      <th>smirk</th>\n",
       "      <td>0.218526</td>\n",
       "    </tr>\n",
       "    <tr>\n",
       "      <th>hearts</th>\n",
       "      <td>0.220856</td>\n",
       "    </tr>\n",
       "    <tr>\n",
       "      <th>ninja red</th>\n",
       "      <td>0.232947</td>\n",
       "    </tr>\n",
       "    <tr>\n",
       "      <th>pixel</th>\n",
       "      <td>0.232970</td>\n",
       "    </tr>\n",
       "    <tr>\n",
       "      <th>mummy</th>\n",
       "      <td>0.241113</td>\n",
       "    </tr>\n",
       "    <tr>\n",
       "      <th>sunglasses squad</th>\n",
       "      <td>0.278061</td>\n",
       "    </tr>\n",
       "    <tr>\n",
       "      <th>derp</th>\n",
       "      <td>0.280059</td>\n",
       "    </tr>\n",
       "    <tr>\n",
       "      <th>alien</th>\n",
       "      <td>0.300000</td>\n",
       "    </tr>\n",
       "    <tr>\n",
       "      <th>mononoke</th>\n",
       "      <td>0.337363</td>\n",
       "    </tr>\n",
       "    <tr>\n",
       "      <th>shocked</th>\n",
       "      <td>0.358452</td>\n",
       "    </tr>\n",
       "    <tr>\n",
       "      <th>angry scar</th>\n",
       "      <td>0.365787</td>\n",
       "    </tr>\n",
       "    <tr>\n",
       "      <th>beard tan</th>\n",
       "      <td>0.374169</td>\n",
       "    </tr>\n",
       "    <tr>\n",
       "      <th>tvface 404</th>\n",
       "      <td>0.933829</td>\n",
       "    </tr>\n",
       "    <tr>\n",
       "      <th>tired</th>\n",
       "      <td>2.506689</td>\n",
       "    </tr>\n",
       "  </tbody>\n",
       "</table>\n",
       "</div>"
      ],
      "text/plain": [
       "                   ave_price\n",
       "face_value                  \n",
       "sunglasses cowboy   0.082845\n",
       "tvface xp           0.085000\n",
       "tvface bobross      0.094375\n",
       "owo                 0.101692\n",
       "sunglasses heart    0.125325\n",
       "glasses funny       0.137678\n",
       "uwu                 0.145815\n",
       "sunglasses yellow   0.149023\n",
       "double face         0.151860\n",
       "glossy              0.152032\n",
       "three eyes          0.152794\n",
       "dizzy               0.154450\n",
       "glasses             0.155931\n",
       "happy               0.156133\n",
       "happy cute          0.157230\n",
       "face face           0.157818\n",
       "rich                0.161785\n",
       "unamused            0.164014\n",
       "sunglasses blue     0.164081\n",
       "ninja black         0.168438\n",
       "ditto               0.172969\n",
       "ninja blue          0.177196\n",
       "beard pirate        0.180010\n",
       "stunned             0.183855\n",
       "sunglasses cool     0.186434\n",
       "angry               0.187255\n",
       "grin                0.187260\n",
       "angry cute          0.188306\n",
       "zombie              0.188763\n",
       "wink                0.200100\n",
       "sunglasses pixel    0.215639\n",
       "beard brown         0.216657\n",
       "smirk               0.218526\n",
       "hearts              0.220856\n",
       "ninja red           0.232947\n",
       "pixel               0.232970\n",
       "mummy               0.241113\n",
       "sunglasses squad    0.278061\n",
       "derp                0.280059\n",
       "alien               0.300000\n",
       "mononoke            0.337363\n",
       "shocked             0.358452\n",
       "angry scar          0.365787\n",
       "beard tan           0.374169\n",
       "tvface 404          0.933829\n",
       "tired               2.506689"
      ]
     },
     "execution_count": 234,
     "metadata": {},
     "output_type": "execute_result"
    }
   ],
   "source": [
    "df.groupby(by='face_value').mean().sort_values(by='ave_price')"
   ]
  },
  {
   "cell_type": "markdown",
   "id": "515e71da",
   "metadata": {},
   "source": [
    "For the feature \"shirt_value\", the average transaction prices ranges from 0.05 (for \"monk\" category) to 0.72 (for \"robe king\" category). The average price for \"ninja black\" category is 9.33, which is likely caused by an outlier."
   ]
  },
  {
   "cell_type": "code",
   "execution_count": 235,
   "id": "6a9b0102",
   "metadata": {},
   "outputs": [
    {
     "data": {
      "text/html": [
       "<div>\n",
       "<style scoped>\n",
       "    .dataframe tbody tr th:only-of-type {\n",
       "        vertical-align: middle;\n",
       "    }\n",
       "\n",
       "    .dataframe tbody tr th {\n",
       "        vertical-align: top;\n",
       "    }\n",
       "\n",
       "    .dataframe thead th {\n",
       "        text-align: right;\n",
       "    }\n",
       "</style>\n",
       "<table border=\"1\" class=\"dataframe\">\n",
       "  <thead>\n",
       "    <tr style=\"text-align: right;\">\n",
       "      <th></th>\n",
       "      <th>ave_price</th>\n",
       "    </tr>\n",
       "    <tr>\n",
       "      <th>shirt_value</th>\n",
       "      <th></th>\n",
       "    </tr>\n",
       "  </thead>\n",
       "  <tbody>\n",
       "    <tr>\n",
       "      <th>monk</th>\n",
       "      <td>0.052745</td>\n",
       "    </tr>\n",
       "    <tr>\n",
       "      <th>overalls yellow</th>\n",
       "      <td>0.052983</td>\n",
       "    </tr>\n",
       "    <tr>\n",
       "      <th>cowboy black</th>\n",
       "      <td>0.062329</td>\n",
       "    </tr>\n",
       "    <tr>\n",
       "      <th>pirate black</th>\n",
       "      <td>0.064692</td>\n",
       "    </tr>\n",
       "    <tr>\n",
       "      <th>knight leather</th>\n",
       "      <td>0.067500</td>\n",
       "    </tr>\n",
       "    <tr>\n",
       "      <th>...</th>\n",
       "      <td>...</td>\n",
       "    </tr>\n",
       "    <tr>\n",
       "      <th>astro orange</th>\n",
       "      <td>0.433159</td>\n",
       "    </tr>\n",
       "    <tr>\n",
       "      <th>astro black</th>\n",
       "      <td>0.441112</td>\n",
       "    </tr>\n",
       "    <tr>\n",
       "      <th>combat black</th>\n",
       "      <td>0.471111</td>\n",
       "    </tr>\n",
       "    <tr>\n",
       "      <th>robe king</th>\n",
       "      <td>0.720889</td>\n",
       "    </tr>\n",
       "    <tr>\n",
       "      <th>ninja black</th>\n",
       "      <td>9.327436</td>\n",
       "    </tr>\n",
       "  </tbody>\n",
       "</table>\n",
       "<p>87 rows × 1 columns</p>\n",
       "</div>"
      ],
      "text/plain": [
       "                 ave_price\n",
       "shirt_value               \n",
       "monk              0.052745\n",
       "overalls yellow   0.052983\n",
       "cowboy black      0.062329\n",
       "pirate black      0.064692\n",
       "knight leather    0.067500\n",
       "...                    ...\n",
       "astro orange      0.433159\n",
       "astro black       0.441112\n",
       "combat black      0.471111\n",
       "robe king         0.720889\n",
       "ninja black       9.327436\n",
       "\n",
       "[87 rows x 1 columns]"
      ]
     },
     "execution_count": 235,
     "metadata": {},
     "output_type": "execute_result"
    }
   ],
   "source": [
    "df.groupby(by='shirt_value').mean().sort_values(by='ave_price')"
   ]
  },
  {
   "cell_type": "markdown",
   "id": "07f11aa0",
   "metadata": {},
   "source": [
    "For the feature \"hats_value\", the average transaction prices ranges from 0.01 (for \"knight_blue\" category) to 0.89 (for \"knight black\" category). The average price for \"flower pink\" category is 2.33, which is likely caused by an outlier."
   ]
  },
  {
   "cell_type": "code",
   "execution_count": 236,
   "id": "99e340e2",
   "metadata": {},
   "outputs": [
    {
     "data": {
      "text/html": [
       "<div>\n",
       "<style scoped>\n",
       "    .dataframe tbody tr th:only-of-type {\n",
       "        vertical-align: middle;\n",
       "    }\n",
       "\n",
       "    .dataframe tbody tr th {\n",
       "        vertical-align: top;\n",
       "    }\n",
       "\n",
       "    .dataframe thead th {\n",
       "        text-align: right;\n",
       "    }\n",
       "</style>\n",
       "<table border=\"1\" class=\"dataframe\">\n",
       "  <thead>\n",
       "    <tr style=\"text-align: right;\">\n",
       "      <th></th>\n",
       "      <th>ave_price</th>\n",
       "    </tr>\n",
       "    <tr>\n",
       "      <th>hats_value</th>\n",
       "      <th></th>\n",
       "    </tr>\n",
       "  </thead>\n",
       "  <tbody>\n",
       "    <tr>\n",
       "      <th>knight blue</th>\n",
       "      <td>0.014310</td>\n",
       "    </tr>\n",
       "    <tr>\n",
       "      <th>halo</th>\n",
       "      <td>0.022000</td>\n",
       "    </tr>\n",
       "    <tr>\n",
       "      <th>visor green</th>\n",
       "      <td>0.044736</td>\n",
       "    </tr>\n",
       "    <tr>\n",
       "      <th>deepsea bronze</th>\n",
       "      <td>0.049000</td>\n",
       "    </tr>\n",
       "    <tr>\n",
       "      <th>deepsea orange</th>\n",
       "      <td>0.064000</td>\n",
       "    </tr>\n",
       "    <tr>\n",
       "      <th>...</th>\n",
       "      <td>...</td>\n",
       "    </tr>\n",
       "    <tr>\n",
       "      <th>crown gold</th>\n",
       "      <td>0.548750</td>\n",
       "    </tr>\n",
       "    <tr>\n",
       "      <th>costume frog</th>\n",
       "      <td>0.550229</td>\n",
       "    </tr>\n",
       "    <tr>\n",
       "      <th>tvhead grey</th>\n",
       "      <td>0.557107</td>\n",
       "    </tr>\n",
       "    <tr>\n",
       "      <th>knight black</th>\n",
       "      <td>0.895000</td>\n",
       "    </tr>\n",
       "    <tr>\n",
       "      <th>flower pink</th>\n",
       "      <td>2.330619</td>\n",
       "    </tr>\n",
       "  </tbody>\n",
       "</table>\n",
       "<p>85 rows × 1 columns</p>\n",
       "</div>"
      ],
      "text/plain": [
       "                ave_price\n",
       "hats_value               \n",
       "knight blue      0.014310\n",
       "halo             0.022000\n",
       "visor green      0.044736\n",
       "deepsea bronze   0.049000\n",
       "deepsea orange   0.064000\n",
       "...                   ...\n",
       "crown gold       0.548750\n",
       "costume frog     0.550229\n",
       "tvhead grey      0.557107\n",
       "knight black     0.895000\n",
       "flower pink      2.330619\n",
       "\n",
       "[85 rows x 1 columns]"
      ]
     },
     "execution_count": 236,
     "metadata": {},
     "output_type": "execute_result"
    }
   ],
   "source": [
    "df.groupby(by='hats_value').mean().sort_values(by='ave_price')"
   ]
  },
  {
   "cell_type": "markdown",
   "id": "d5df869e",
   "metadata": {},
   "source": [
    "Lastly, below shows the boxplot of each category of the feature \"tier_value\". We notice that the category \"exotic_2\" clearly has a higher median than the other categories, and the categories \"dassy_1\", \"dassy_2\" and \"exotic_2\" are more dispersed in price than the other ones. "
   ]
  },
  {
   "cell_type": "code",
   "execution_count": 233,
   "id": "da2dab97",
   "metadata": {},
   "outputs": [
    {
     "data": {
      "image/png": "[encoded data removed]",
      "text/plain": [
       "<Figure size 360x360 with 1 Axes>"
      ]
     },
     "metadata": {
      "needs_background": "light"
     },
     "output_type": "display_data"
    }
   ],
   "source": [
    "tier_value_plot = sns.catplot(x=\"tier_value\", y=\"ave_price\", kind=\"box\",  data=df)\n",
    "tier_value_plot.set(ylim=(0, 1))\n",
    "plt.title('ave_price vs. tier_value')\n",
    "plt.show()"
   ]
  },
  {
   "cell_type": "markdown",
   "id": "d9db9360",
   "metadata": {},
   "source": [
    "### Feature Counts"
   ]
  },
  {
   "cell_type": "markdown",
   "id": "3570d9cf",
   "metadata": {},
   "source": [
    "Lastly, we examine if the count for each feature is related to average price, i.e., whether features having more counts are likely to be associated with higher price (possibly due to higher preference/demand for this feature) or lower price (due to less rareness). "
   ]
  },
  {
   "cell_type": "markdown",
   "id": "777df486",
   "metadata": {},
   "source": [
    "To begin with, we examine the relations between face_count (how many occurance of each face value in the collection) and the average price of each face value. The scatter plot below shows that most of the face values have more than 200 counts, but there is no clear pattern showing higher count would lead to either higher or lower average price. "
   ]
  },
  {
   "cell_type": "code",
   "execution_count": 252,
   "id": "afb462ea",
   "metadata": {},
   "outputs": [
    {
     "data": {
      "image/png": "[encoded data removed]",
      "text/plain": [
       "<Figure size 432x288 with 1 Axes>"
      ]
     },
     "metadata": {
      "needs_background": "light"
     },
     "output_type": "display_data"
    }
   ],
   "source": [
    "face_count = df.face_count.unique()\n",
    "price = []\n",
    "for current_face_count in face_count:\n",
    "    current_price = df[df.face_count == current_face_count].ave_price.mean()\n",
    "    price.append(current_price)\n",
    "face_count = face_count.astype(int)\n",
    "\n",
    "plt.scatter(x=face_count, y=price)\n",
    "plt.ylim([0, 1])\n",
    "plt.title('face_count vs. price')\n",
    "plt.xlabel('Face count')\n",
    "plt.ylabel('Average price')\n",
    "plt.show()"
   ]
  },
  {
   "cell_type": "markdown",
   "id": "99e7caca",
   "metadata": {},
   "source": [
    "For the relationship between shirt_count and price, it is also not clear if a higher shirt count is associated with a higher or lower average price. "
   ]
  },
  {
   "cell_type": "code",
   "execution_count": 253,
   "id": "a93fe77d",
   "metadata": {},
   "outputs": [
    {
     "data": {
      "image/png": "[encoded data removed]",
      "text/plain": [
       "<Figure size 432x288 with 1 Axes>"
      ]
     },
     "metadata": {
      "needs_background": "light"
     },
     "output_type": "display_data"
    }
   ],
   "source": [
    "shirt_count = df.shirt_count.unique()\n",
    "price = []\n",
    "for current_shirt_count in shirt_count:\n",
    "    current_price = df[df.shirt_count == current_shirt_count].ave_price.mean()\n",
    "    price.append(current_price)\n",
    "shirt_count = shirt_count.astype(int)\n",
    "\n",
    "plt.scatter(x=shirt_count, y=price)\n",
    "plt.ylim([0, 1])\n",
    "plt.title('shirt_count vs. price')\n",
    "plt.xlabel('Shirt count')\n",
    "plt.ylabel('Average price')\n",
    "plt.show()"
   ]
  },
  {
   "cell_type": "markdown",
   "id": "ded35938",
   "metadata": {},
   "source": [
    "For the relationship between tier_count and price, it is also not clear if a higher tier count is associated with a higher or lower average price."
   ]
  },
  {
   "cell_type": "code",
   "execution_count": 254,
   "id": "2184bee8",
   "metadata": {},
   "outputs": [
    {
     "data": {
      "image/png": "[encoded data removed]",
      "text/plain": [
       "<Figure size 432x288 with 1 Axes>"
      ]
     },
     "metadata": {
      "needs_background": "light"
     },
     "output_type": "display_data"
    }
   ],
   "source": [
    "tier_count = df.tier_count.unique()\n",
    "price = []\n",
    "for current_tier_count in tier_count:\n",
    "    current_price = df[df.tier_count == current_tier_count].ave_price.mean()\n",
    "    price.append(current_price)\n",
    "tier_count = tier_count.astype(int)\n",
    "\n",
    "plt.scatter(x=tier_count, y=price)\n",
    "plt.ylim([0, 1])\n",
    "plt.title('tier_count vs. price')\n",
    "plt.xlabel('Tier count')\n",
    "plt.ylabel('Average price')\n",
    "plt.show()"
   ]
  },
  {
   "cell_type": "markdown",
   "id": "3aefbb32",
   "metadata": {},
   "source": [
    "Lastly, for the relationship between hats_count and price, there is no clear pattern on whether a higher hats_count is associated with a higher or lower average price. "
   ]
  },
  {
   "cell_type": "code",
   "execution_count": 255,
   "id": "3120fc1d",
   "metadata": {},
   "outputs": [
    {
     "data": {
      "image/png": "[encoded data removed]",
      "text/plain": [
       "<Figure size 432x288 with 1 Axes>"
      ]
     },
     "metadata": {
      "needs_background": "light"
     },
     "output_type": "display_data"
    }
   ],
   "source": [
    "hats_count = df.hats_count.unique()\n",
    "price = []\n",
    "for current_hats_count in hats_count:\n",
    "    current_price = df[df.hats_count == current_hats_count].ave_price.mean()\n",
    "    price.append(current_price)\n",
    "hats_count = hats_count.astype(int)\n",
    "\n",
    "plt.scatter(x=hats_count, y=price)\n",
    "plt.ylim([0, 1])\n",
    "plt.title('hats_count vs. price')\n",
    "plt.xlabel('Hats count')\n",
    "plt.ylabel('Average price')\n",
    "plt.show()"
   ]
  }
 ],
 "metadata": {
  "kernelspec": {
   "display_name": "Python 3",
   "language": "python",
   "name": "python3"
  },
  "language_info": {
   "codemirror_mode": {
    "name": "ipython",
    "version": 3
   },
   "file_extension": ".py",
   "mimetype": "text/x-python",
   "name": "python",
   "nbconvert_exporter": "python",
   "pygments_lexer": "ipython3",
   "version": "3.7.4"
  }
 },
 "nbformat": 4,
 "nbformat_minor": 5
}
